{
 "cells": [
  {
   "cell_type": "code",
   "execution_count": 12,
   "metadata": {},
   "outputs": [],
   "source": [
    "def reporte(tanque1, tanque2, tanque3):\n",
    "    promedio = (tanque1 + tanque2 + tanque3) / 3\n",
    "    return f\"\"\"Reporte:\n",
    "    tanque 1: {tanque1}%\n",
    "    tanque 2: {tanque2}%\n",
    "    tanque 3: {tanque3}%\n",
    "    Promedio: {promedio}%\"\"\""
   ]
  },
  {
   "cell_type": "code",
   "execution_count": 13,
   "metadata": {},
   "outputs": [
    {
     "name": "stdout",
     "output_type": "stream",
     "text": [
      "Reporte:\n",
      "    tanque 1: 100%\n",
      "    tanque 2: 80%\n",
      "    tanque 3: 95%\n",
      "    Promedio: 91.66666666666667%\n"
     ]
    }
   ],
   "source": [
    "print(reporte(100, 80, 95))"
   ]
  },
  {
   "cell_type": "code",
   "execution_count": 8,
   "metadata": {},
   "outputs": [
    {
     "data": {
      "text/plain": [
       "91.66666666666667"
      ]
     },
     "execution_count": 8,
     "metadata": {},
     "output_type": "execute_result"
    }
   ],
   "source": [
    "def promedio(v):\n",
    "    total = sum(v)\n",
    "    valores = len(v)\n",
    "    return total / valores\n",
    "promedio([100, 80, 95]) "
   ]
  },
  {
   "cell_type": "code",
   "execution_count": 14,
   "metadata": {},
   "outputs": [
    {
     "name": "stdout",
     "output_type": "stream",
     "text": [
      "Reporte:\n",
      "    tanque 1: 100%\n",
      "    tanque 2: 80%\n",
      "    tanque 3: 95%\n",
      "    promedio: 91.66666666666667%\n"
     ]
    }
   ],
   "source": [
    "def reporteAct(tanque1, tanque2, tanque3):\n",
    "    return f\"\"\"Reporte:\n",
    "    tanque 1: {tanque1}%\n",
    "    tanque 2: {tanque2}%\n",
    "    tanque 3: {tanque3}%\n",
    "    promedio: {promedio([tanque1, tanque2, tanque3])}%\"\"\"\n",
    "\n",
    "print(reporteAct(100, 80, 95))"
   ]
  },
  {
   "cell_type": "markdown",
   "metadata": {},
   "source": [
    "ejercicio 2"
   ]
  },
  {
   "cell_type": "code",
   "execution_count": 16,
   "metadata": {},
   "outputs": [
    {
     "name": "stdout",
     "output_type": "stream",
     "text": [
      "\n",
      "    El tiempo de vuelo es de: 50 minutos\n",
      "    Combustible total: 500000 galones\n",
      "    Mision a la luna\n"
     ]
    }
   ],
   "source": [
    "def informe(tiempo_vuelo, combustible, destino):\n",
    "    return f\"\"\"\n",
    "    El tiempo de vuelo es de: {tiempo_vuelo} minutos\n",
    "    Combustible total: {combustible} galones\n",
    "    Mision a la {destino}\"\"\"\n",
    "print(informe(50, 500000, \"luna\"))"
   ]
  },
  {
   "cell_type": "code",
   "execution_count": 17,
   "metadata": {},
   "outputs": [
    {
     "name": "stdout",
     "output_type": "stream",
     "text": [
      "\n",
      "    El tiempo de vuelo es de: 240 minutes\n",
      "    Combustible total: 2000\n",
      "    Mision a la luna\n"
     ]
    }
   ],
   "source": [
    "def mission_report(destino, *minutes, **combustible):\n",
    "    return f\"\"\"\n",
    "    El tiempo de vuelo es de: {sum(minutes)} minutes\n",
    "    Combustible total: {sum(combustible.values())}\n",
    "    Mision a la {destino}\"\"\"\n",
    "print(mission_report(\"luna\", 20, 220, tanque1=1000, tanque2=500, tanque3=500))"
   ]
  },
  {
   "cell_type": "code",
   "execution_count": 22,
   "metadata": {},
   "outputs": [
    {
     "name": "stdout",
     "output_type": "stream",
     "text": [
      "\n",
      "    Tempo de viaje: 240 minutos\n",
      "    Combustible restante: 3500\n",
      "    Mision a la luna\n",
      "principal tanque: 2000 galones restantes\n",
      "reserva1 tanque: 1000 galones restantes\n",
      "reserva2 tanque: 500 galones restantes\n",
      "\n"
     ]
    }
   ],
   "source": [
    "def mission_report(destino, *minutes, **fuel_reservoirs):\n",
    "    informe = f\"\"\"\n",
    "    Tempo de viaje: {sum(minutes)} minutos\n",
    "    Combustible restante: {sum(fuel_reservoirs.values())}\n",
    "    Mision a la {destino}\\n\"\"\"\n",
    "    for nombre_tanque, galones in fuel_reservoirs.items():\n",
    "        informe += f\"{nombre_tanque} tanque: {galones} galones restantes\\n\"\n",
    "    return informe\n",
    "\n",
    "print(mission_report(\"luna\", 20, 220, principal=2000, reserva1=1000, reserva2=500))"
   ]
  }
 ],
 "metadata": {
  "interpreter": {
   "hash": "baf2cef78bcf578a4101c4ff48129fd964146432bbe0481872a9d55a4a2f347e"
  },
  "kernelspec": {
   "display_name": "Python 3.10.2 64-bit",
   "language": "python",
   "name": "python3"
  },
  "language_info": {
   "codemirror_mode": {
    "name": "ipython",
    "version": 3
   },
   "file_extension": ".py",
   "mimetype": "text/x-python",
   "name": "python",
   "nbconvert_exporter": "python",
   "pygments_lexer": "ipython3",
   "version": "3.10.2"
  },
  "orig_nbformat": 4
 },
 "nbformat": 4,
 "nbformat_minor": 2
}
